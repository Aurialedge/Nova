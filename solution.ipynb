{
 "cells": [
  {
   "cell_type": "code",
   "execution_count": 4,
   "id": "1ee85363",
   "metadata": {},
   "outputs": [
    {
     "ename": "ModuleNotFoundError",
     "evalue": "No module named 'numpy'",
     "output_type": "error",
     "traceback": [
      "\u001b[31m---------------------------------------------------------------------------\u001b[39m",
      "\u001b[31mModuleNotFoundError\u001b[39m                       Traceback (most recent call last)",
      "\u001b[36mCell\u001b[39m\u001b[36m \u001b[39m\u001b[32mIn[4]\u001b[39m\u001b[32m, line 6\u001b[39m\n\u001b[32m      1\u001b[39m \u001b[38;5;66;03m# Step 1: Inputs\u001b[39;00m\n\u001b[32m      2\u001b[39m \u001b[38;5;66;03m# ----------------\u001b[39;00m\n\u001b[32m      3\u001b[39m \u001b[38;5;66;03m# For a partner i in role r ∈ {driver, merchant, ...}\u001b[39;00m\n\u001b[32m      4\u001b[39m \u001b[38;5;66;03m# Features: F_{r,i} = {f_{r,i,1}, f_{r,i,2}, …}\u001b[39;00m\n\u001b[32m----> \u001b[39m\u001b[32m6\u001b[39m \u001b[38;5;28;01mimport\u001b[39;00m\u001b[38;5;250m \u001b[39m\u001b[34;01mnumpy\u001b[39;00m\u001b[38;5;250m \u001b[39m\u001b[38;5;28;01mas\u001b[39;00m\u001b[38;5;250m \u001b[39m\u001b[34;01mnp\u001b[39;00m\n\u001b[32m      7\u001b[39m \u001b[38;5;28;01mimport\u001b[39;00m\u001b[38;5;250m \u001b[39m\u001b[34;01mpandas\u001b[39;00m\u001b[38;5;250m \u001b[39m\u001b[38;5;28;01mas\u001b[39;00m\u001b[38;5;250m \u001b[39m\u001b[34;01mpd\u001b[39;00m\n\u001b[32m      9\u001b[39m \u001b[38;5;66;03m# Random seed for reproducibility\u001b[39;00m\n",
      "\u001b[31mModuleNotFoundError\u001b[39m: No module named 'numpy'"
     ]
    }
   ],
   "source": [
    "# Step 1: Inputs\n",
    "# ----------------\n",
    "# For a partner i in role r ∈ {driver, merchant, ...}\n",
    "# Features: F_{r,i} = {f_{r,i,1}, f_{r,i,2}, …}\n",
    "\n",
    "import numpy as np\n",
    "import pandas as pd\n",
    "\n",
    "# Random seed for reproducibility\n",
    "np.random.seed(42)\n",
    "\n",
    "# Number of samples per role\n",
    "n_drivers = 200\n",
    "n_merchants = 150\n",
    "\n",
    "# Driver features: on_time_rate, earn_mean, cancel_rate, rating\n",
    "drivers = pd.DataFrame({\n",
    "    \"role\": [\"driver\"] * n_drivers,\n",
    "    \"partner_id\": range(1, n_drivers + 1),\n",
    "    \"on_time_rate\": np.random.uniform(70, 100, n_drivers),\n",
    "    \"earn_mean\": np.random.uniform(200, 800, n_drivers),\n",
    "    \"cancel_rate\": np.random.uniform(0, 20, n_drivers),\n",
    "    \"rating\": np.random.uniform(3.5, 5.0, n_drivers)\n",
    "})\n",
    "\n",
    "# Merchant features: fulfill_rate, revenue_mean, refund_rate, rating\n",
    "merchants = pd.DataFrame({\n",
    "    \"role\": [\"merchant\"] * n_merchants,\n",
    "    \"partner_id\": range(n_drivers + 1, n_drivers + n_merchants + 1),\n",
    "    \"fulfill_rate\": np.random.uniform(60, 100, n_merchants),\n",
    "    \"revenue_mean\": np.random.uniform(500, 3000, n_merchants),\n",
    "    \"refund_rate\": np.random.uniform(0, 15, n_merchants),\n",
    "    \"rating\": np.random.uniform(3.0, 5.0, n_merchants)\n",
    "})\n",
    "\n",
    "# Combine into one dataset\n",
    "df = pd.concat([drivers, merchants], ignore_index=True)\n",
    "\n",
    "df.head()\n"
   ]
  }
 ],
 "metadata": {
  "kernelspec": {
   "display_name": ".venv",
   "language": "python",
   "name": "python3"
  },
  "language_info": {
   "codemirror_mode": {
    "name": "ipython",
    "version": 3
   },
   "file_extension": ".py",
   "mimetype": "text/x-python",
   "name": "python",
   "nbconvert_exporter": "python",
   "pygments_lexer": "ipython3",
   "version": "3.13.6"
  }
 },
 "nbformat": 4,
 "nbformat_minor": 5
}
